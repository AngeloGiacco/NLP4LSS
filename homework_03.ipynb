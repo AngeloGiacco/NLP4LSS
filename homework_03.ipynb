{
  "cells": [
    {
      "cell_type": "markdown",
      "metadata": {
        "id": "4uqIDL5TELq2"
      },
      "source": [
        "# HW03: Distance and Topic Model"
      ],
      "id": "4uqIDL5TELq2"
    },
    {
      "cell_type": "markdown",
      "metadata": {
        "id": "BROoam_wELq3"
      },
      "source": [
        "Remember that these homework work as a completion grade. **You can skip one section without losing credit.**"
      ],
      "id": "BROoam_wELq3"
    },
    {
      "cell_type": "markdown",
      "metadata": {
        "id": "pwac0WPhELq3"
      },
      "source": [
        "## Load and Pre-process Text"
      ],
      "id": "pwac0WPhELq3"
    },
    {
      "cell_type": "code",
      "source": [
        "!wget https://raw.githubusercontent.com/mhjabreel/CharCnn_Keras/master/data/ag_news_csv/train.csv"
      ],
      "metadata": {
        "colab": {
          "base_uri": "https://localhost:8080/"
        },
        "id": "fMw3eXGHikJY",
        "outputId": "2114241e-6ffd-4604-e317-7b0befef387d"
      },
      "id": "fMw3eXGHikJY",
      "execution_count": 31,
      "outputs": [
        {
          "output_type": "stream",
          "name": "stdout",
          "text": [
            "--2024-03-14 20:49:33--  https://raw.githubusercontent.com/mhjabreel/CharCnn_Keras/master/data/ag_news_csv/train.csv\n",
            "Resolving raw.githubusercontent.com (raw.githubusercontent.com)... 185.199.111.133, 185.199.110.133, 185.199.109.133, ...\n",
            "Connecting to raw.githubusercontent.com (raw.githubusercontent.com)|185.199.111.133|:443... connected.\n",
            "HTTP request sent, awaiting response... 200 OK\n",
            "Length: 29470338 (28M) [text/plain]\n",
            "Saving to: ‘train.csv.1’\n",
            "\n",
            "train.csv.1         100%[===================>]  28.10M  --.-KB/s    in 0.1s    \n",
            "\n",
            "2024-03-14 20:49:34 (277 MB/s) - ‘train.csv.1’ saved [29470338/29470338]\n",
            "\n"
          ]
        }
      ]
    },
    {
      "cell_type": "code",
      "execution_count": 32,
      "metadata": {
        "id": "bmcziBH4ELq3",
        "colab": {
          "base_uri": "https://localhost:8080/",
          "height": 206
        },
        "outputId": "4ecd8cda-c6c2-4abc-ed6c-786ea7eb5925"
      },
      "outputs": [
        {
          "output_type": "execute_result",
          "data": {
            "text/plain": [
              "      label                                              title  \\\n",
              "0  business  Carlyle Looks Toward Commercial Aerospace (Reu...   \n",
              "1  business    Oil and Economy Cloud Stocks' Outlook (Reuters)   \n",
              "2  business  Iraq Halts Oil Exports from Main Southern Pipe...   \n",
              "3  business  Oil prices soar to all-time record, posing new...   \n",
              "4  business        Stocks End Up, But Near Year Lows (Reuters)   \n",
              "\n",
              "                                                lead  \\\n",
              "0  Reuters - Private investment firm Carlyle Grou...   \n",
              "1  Reuters - Soaring crude prices plus worries\\ab...   \n",
              "2  Reuters - Authorities have halted oil export\\f...   \n",
              "3  AFP - Tearaway world oil prices, toppling reco...   \n",
              "4  Reuters - Stocks ended slightly higher on Frid...   \n",
              "\n",
              "                                                text  \n",
              "0  Carlyle Looks Toward Commercial Aerospace (Reu...  \n",
              "1  Oil and Economy Cloud Stocks' Outlook (Reuters...  \n",
              "2  Iraq Halts Oil Exports from Main Southern Pipe...  \n",
              "3  Oil prices soar to all-time record, posing new...  \n",
              "4  Stocks End Up, But Near Year Lows (Reuters) Re...  "
            ],
            "text/html": [
              "\n",
              "  <div id=\"df-89fa1a99-9c3a-461c-a6f0-048f0264c295\" class=\"colab-df-container\">\n",
              "    <div>\n",
              "<style scoped>\n",
              "    .dataframe tbody tr th:only-of-type {\n",
              "        vertical-align: middle;\n",
              "    }\n",
              "\n",
              "    .dataframe tbody tr th {\n",
              "        vertical-align: top;\n",
              "    }\n",
              "\n",
              "    .dataframe thead th {\n",
              "        text-align: right;\n",
              "    }\n",
              "</style>\n",
              "<table border=\"1\" class=\"dataframe\">\n",
              "  <thead>\n",
              "    <tr style=\"text-align: right;\">\n",
              "      <th></th>\n",
              "      <th>label</th>\n",
              "      <th>title</th>\n",
              "      <th>lead</th>\n",
              "      <th>text</th>\n",
              "    </tr>\n",
              "  </thead>\n",
              "  <tbody>\n",
              "    <tr>\n",
              "      <th>0</th>\n",
              "      <td>business</td>\n",
              "      <td>Carlyle Looks Toward Commercial Aerospace (Reu...</td>\n",
              "      <td>Reuters - Private investment firm Carlyle Grou...</td>\n",
              "      <td>Carlyle Looks Toward Commercial Aerospace (Reu...</td>\n",
              "    </tr>\n",
              "    <tr>\n",
              "      <th>1</th>\n",
              "      <td>business</td>\n",
              "      <td>Oil and Economy Cloud Stocks' Outlook (Reuters)</td>\n",
              "      <td>Reuters - Soaring crude prices plus worries\\ab...</td>\n",
              "      <td>Oil and Economy Cloud Stocks' Outlook (Reuters...</td>\n",
              "    </tr>\n",
              "    <tr>\n",
              "      <th>2</th>\n",
              "      <td>business</td>\n",
              "      <td>Iraq Halts Oil Exports from Main Southern Pipe...</td>\n",
              "      <td>Reuters - Authorities have halted oil export\\f...</td>\n",
              "      <td>Iraq Halts Oil Exports from Main Southern Pipe...</td>\n",
              "    </tr>\n",
              "    <tr>\n",
              "      <th>3</th>\n",
              "      <td>business</td>\n",
              "      <td>Oil prices soar to all-time record, posing new...</td>\n",
              "      <td>AFP - Tearaway world oil prices, toppling reco...</td>\n",
              "      <td>Oil prices soar to all-time record, posing new...</td>\n",
              "    </tr>\n",
              "    <tr>\n",
              "      <th>4</th>\n",
              "      <td>business</td>\n",
              "      <td>Stocks End Up, But Near Year Lows (Reuters)</td>\n",
              "      <td>Reuters - Stocks ended slightly higher on Frid...</td>\n",
              "      <td>Stocks End Up, But Near Year Lows (Reuters) Re...</td>\n",
              "    </tr>\n",
              "  </tbody>\n",
              "</table>\n",
              "</div>\n",
              "    <div class=\"colab-df-buttons\">\n",
              "\n",
              "  <div class=\"colab-df-container\">\n",
              "    <button class=\"colab-df-convert\" onclick=\"convertToInteractive('df-89fa1a99-9c3a-461c-a6f0-048f0264c295')\"\n",
              "            title=\"Convert this dataframe to an interactive table.\"\n",
              "            style=\"display:none;\">\n",
              "\n",
              "  <svg xmlns=\"http://www.w3.org/2000/svg\" height=\"24px\" viewBox=\"0 -960 960 960\">\n",
              "    <path d=\"M120-120v-720h720v720H120Zm60-500h600v-160H180v160Zm220 220h160v-160H400v160Zm0 220h160v-160H400v160ZM180-400h160v-160H180v160Zm440 0h160v-160H620v160ZM180-180h160v-160H180v160Zm440 0h160v-160H620v160Z\"/>\n",
              "  </svg>\n",
              "    </button>\n",
              "\n",
              "  <style>\n",
              "    .colab-df-container {\n",
              "      display:flex;\n",
              "      gap: 12px;\n",
              "    }\n",
              "\n",
              "    .colab-df-convert {\n",
              "      background-color: #E8F0FE;\n",
              "      border: none;\n",
              "      border-radius: 50%;\n",
              "      cursor: pointer;\n",
              "      display: none;\n",
              "      fill: #1967D2;\n",
              "      height: 32px;\n",
              "      padding: 0 0 0 0;\n",
              "      width: 32px;\n",
              "    }\n",
              "\n",
              "    .colab-df-convert:hover {\n",
              "      background-color: #E2EBFA;\n",
              "      box-shadow: 0px 1px 2px rgba(60, 64, 67, 0.3), 0px 1px 3px 1px rgba(60, 64, 67, 0.15);\n",
              "      fill: #174EA6;\n",
              "    }\n",
              "\n",
              "    .colab-df-buttons div {\n",
              "      margin-bottom: 4px;\n",
              "    }\n",
              "\n",
              "    [theme=dark] .colab-df-convert {\n",
              "      background-color: #3B4455;\n",
              "      fill: #D2E3FC;\n",
              "    }\n",
              "\n",
              "    [theme=dark] .colab-df-convert:hover {\n",
              "      background-color: #434B5C;\n",
              "      box-shadow: 0px 1px 3px 1px rgba(0, 0, 0, 0.15);\n",
              "      filter: drop-shadow(0px 1px 2px rgba(0, 0, 0, 0.3));\n",
              "      fill: #FFFFFF;\n",
              "    }\n",
              "  </style>\n",
              "\n",
              "    <script>\n",
              "      const buttonEl =\n",
              "        document.querySelector('#df-89fa1a99-9c3a-461c-a6f0-048f0264c295 button.colab-df-convert');\n",
              "      buttonEl.style.display =\n",
              "        google.colab.kernel.accessAllowed ? 'block' : 'none';\n",
              "\n",
              "      async function convertToInteractive(key) {\n",
              "        const element = document.querySelector('#df-89fa1a99-9c3a-461c-a6f0-048f0264c295');\n",
              "        const dataTable =\n",
              "          await google.colab.kernel.invokeFunction('convertToInteractive',\n",
              "                                                    [key], {});\n",
              "        if (!dataTable) return;\n",
              "\n",
              "        const docLinkHtml = 'Like what you see? Visit the ' +\n",
              "          '<a target=\"_blank\" href=https://colab.research.google.com/notebooks/data_table.ipynb>data table notebook</a>'\n",
              "          + ' to learn more about interactive tables.';\n",
              "        element.innerHTML = '';\n",
              "        dataTable['output_type'] = 'display_data';\n",
              "        await google.colab.output.renderOutput(dataTable, element);\n",
              "        const docLink = document.createElement('div');\n",
              "        docLink.innerHTML = docLinkHtml;\n",
              "        element.appendChild(docLink);\n",
              "      }\n",
              "    </script>\n",
              "  </div>\n",
              "\n",
              "\n",
              "<div id=\"df-12a16ec0-b819-492c-9642-fc25f823d0b6\">\n",
              "  <button class=\"colab-df-quickchart\" onclick=\"quickchart('df-12a16ec0-b819-492c-9642-fc25f823d0b6')\"\n",
              "            title=\"Suggest charts\"\n",
              "            style=\"display:none;\">\n",
              "\n",
              "<svg xmlns=\"http://www.w3.org/2000/svg\" height=\"24px\"viewBox=\"0 0 24 24\"\n",
              "     width=\"24px\">\n",
              "    <g>\n",
              "        <path d=\"M19 3H5c-1.1 0-2 .9-2 2v14c0 1.1.9 2 2 2h14c1.1 0 2-.9 2-2V5c0-1.1-.9-2-2-2zM9 17H7v-7h2v7zm4 0h-2V7h2v10zm4 0h-2v-4h2v4z\"/>\n",
              "    </g>\n",
              "</svg>\n",
              "  </button>\n",
              "\n",
              "<style>\n",
              "  .colab-df-quickchart {\n",
              "      --bg-color: #E8F0FE;\n",
              "      --fill-color: #1967D2;\n",
              "      --hover-bg-color: #E2EBFA;\n",
              "      --hover-fill-color: #174EA6;\n",
              "      --disabled-fill-color: #AAA;\n",
              "      --disabled-bg-color: #DDD;\n",
              "  }\n",
              "\n",
              "  [theme=dark] .colab-df-quickchart {\n",
              "      --bg-color: #3B4455;\n",
              "      --fill-color: #D2E3FC;\n",
              "      --hover-bg-color: #434B5C;\n",
              "      --hover-fill-color: #FFFFFF;\n",
              "      --disabled-bg-color: #3B4455;\n",
              "      --disabled-fill-color: #666;\n",
              "  }\n",
              "\n",
              "  .colab-df-quickchart {\n",
              "    background-color: var(--bg-color);\n",
              "    border: none;\n",
              "    border-radius: 50%;\n",
              "    cursor: pointer;\n",
              "    display: none;\n",
              "    fill: var(--fill-color);\n",
              "    height: 32px;\n",
              "    padding: 0;\n",
              "    width: 32px;\n",
              "  }\n",
              "\n",
              "  .colab-df-quickchart:hover {\n",
              "    background-color: var(--hover-bg-color);\n",
              "    box-shadow: 0 1px 2px rgba(60, 64, 67, 0.3), 0 1px 3px 1px rgba(60, 64, 67, 0.15);\n",
              "    fill: var(--button-hover-fill-color);\n",
              "  }\n",
              "\n",
              "  .colab-df-quickchart-complete:disabled,\n",
              "  .colab-df-quickchart-complete:disabled:hover {\n",
              "    background-color: var(--disabled-bg-color);\n",
              "    fill: var(--disabled-fill-color);\n",
              "    box-shadow: none;\n",
              "  }\n",
              "\n",
              "  .colab-df-spinner {\n",
              "    border: 2px solid var(--fill-color);\n",
              "    border-color: transparent;\n",
              "    border-bottom-color: var(--fill-color);\n",
              "    animation:\n",
              "      spin 1s steps(1) infinite;\n",
              "  }\n",
              "\n",
              "  @keyframes spin {\n",
              "    0% {\n",
              "      border-color: transparent;\n",
              "      border-bottom-color: var(--fill-color);\n",
              "      border-left-color: var(--fill-color);\n",
              "    }\n",
              "    20% {\n",
              "      border-color: transparent;\n",
              "      border-left-color: var(--fill-color);\n",
              "      border-top-color: var(--fill-color);\n",
              "    }\n",
              "    30% {\n",
              "      border-color: transparent;\n",
              "      border-left-color: var(--fill-color);\n",
              "      border-top-color: var(--fill-color);\n",
              "      border-right-color: var(--fill-color);\n",
              "    }\n",
              "    40% {\n",
              "      border-color: transparent;\n",
              "      border-right-color: var(--fill-color);\n",
              "      border-top-color: var(--fill-color);\n",
              "    }\n",
              "    60% {\n",
              "      border-color: transparent;\n",
              "      border-right-color: var(--fill-color);\n",
              "    }\n",
              "    80% {\n",
              "      border-color: transparent;\n",
              "      border-right-color: var(--fill-color);\n",
              "      border-bottom-color: var(--fill-color);\n",
              "    }\n",
              "    90% {\n",
              "      border-color: transparent;\n",
              "      border-bottom-color: var(--fill-color);\n",
              "    }\n",
              "  }\n",
              "</style>\n",
              "\n",
              "  <script>\n",
              "    async function quickchart(key) {\n",
              "      const quickchartButtonEl =\n",
              "        document.querySelector('#' + key + ' button');\n",
              "      quickchartButtonEl.disabled = true;  // To prevent multiple clicks.\n",
              "      quickchartButtonEl.classList.add('colab-df-spinner');\n",
              "      try {\n",
              "        const charts = await google.colab.kernel.invokeFunction(\n",
              "            'suggestCharts', [key], {});\n",
              "      } catch (error) {\n",
              "        console.error('Error during call to suggestCharts:', error);\n",
              "      }\n",
              "      quickchartButtonEl.classList.remove('colab-df-spinner');\n",
              "      quickchartButtonEl.classList.add('colab-df-quickchart-complete');\n",
              "    }\n",
              "    (() => {\n",
              "      let quickchartButtonEl =\n",
              "        document.querySelector('#df-12a16ec0-b819-492c-9642-fc25f823d0b6 button');\n",
              "      quickchartButtonEl.style.display =\n",
              "        google.colab.kernel.accessAllowed ? 'block' : 'none';\n",
              "    })();\n",
              "  </script>\n",
              "</div>\n",
              "    </div>\n",
              "  </div>\n"
            ],
            "application/vnd.google.colaboratory.intrinsic+json": {
              "type": "dataframe",
              "variable_name": "df"
            }
          },
          "metadata": {},
          "execution_count": 32
        }
      ],
      "source": [
        "#Import the AG news dataset (same as hw01)\n",
        "#Download them from here\n",
        "\n",
        "import pandas as pd\n",
        "import nltk\n",
        "df = pd.read_csv('train.csv')\n",
        "\n",
        "df.columns = [\"label\", \"title\", \"lead\"]\n",
        "label_map = {1:\"world\", 2:\"sport\", 3:\"business\", 4:\"sci/tech\"}\n",
        "def replace_label(x):\n",
        "\treturn label_map[x]\n",
        "df[\"label\"] = df[\"label\"].apply(replace_label)\n",
        "df[\"text\"] = df[\"title\"] + \" \" + df[\"lead\"]\n",
        "df.head()"
      ],
      "id": "bmcziBH4ELq3"
    },
    {
      "cell_type": "code",
      "execution_count": 33,
      "metadata": {
        "id": "SXfvpd-LELq4",
        "colab": {
          "base_uri": "https://localhost:8080/"
        },
        "outputId": "189358ef-3e56-49dc-b512-0423581d7f31"
      },
      "outputs": [
        {
          "output_type": "stream",
          "name": "stdout",
          "text": [
            "Sudanese opposition, government start peace talks Sudanese opposition groups and a government delegation on Friday held the first full day of peace talks in Cairo with both sides optimistic about a deal, sources close to the negotiations told Egypt #39;s MENA news agency.\n",
            "sudanese opposition government start peace talk sudanese opposition group government delegation friday hold day peace talk cairo side optimistic deal source close negotiation tell egypt 39;s mena news agency\n"
          ]
        }
      ],
      "source": [
        "import spacy\n",
        "dfs = df.sample(200)\n",
        "nlp = spacy.load('en_core_web_sm')\n",
        "from sklearn.feature_extraction.text import TfidfVectorizer\n",
        "\n",
        "##TODO pre-process text as you did in HW02\n",
        "\n",
        "def clean(x):\n",
        "    # lemmatize and lowercase without stopwords, punctuation and numbers\n",
        "    res = []\n",
        "    for sent in x.sents:\n",
        "      res.append([w.lemma_.lower() for w in sent if not w.is_stop and not w.is_punct and not w.is_digit])\n",
        "    return res\n",
        "\n",
        "def flatten(x):\n",
        "  return [z for y in x for z in y]\n",
        "\n",
        "def join_tokens(x):\n",
        "  return \" \".join(x)\n",
        "\n",
        "dfs['doc'] = dfs['text'].apply(nlp)\n",
        "dfs['unjoined_tokens'] = dfs['doc'].apply(clean).apply(flatten)\n",
        "dfs['tokens'] = dfs['unjoined_tokens'].apply(join_tokens)\n",
        "\n",
        "print(dfs.iloc[0]['doc'])\n",
        "print(dfs.iloc[0]['tokens'])"
      ],
      "id": "SXfvpd-LELq4"
    },
    {
      "cell_type": "code",
      "source": [
        "##TODO vectorize the pre-processed text using TfidfVectorizer\n",
        "from sklearn.feature_extraction.text import TfidfVectorizer\n",
        "tfidf = TfidfVectorizer(min_df=0.01,\n",
        "                        max_df=0.9,\n",
        "                        max_features=1000,\n",
        "                        stop_words='english',\n",
        "                        use_idf=True,\n",
        "                        ngram_range=(1,2))\n",
        "\n",
        "tokens = dfs['tokens']\n",
        "\n",
        "tfidf_matrix = tfidf.fit_transform(tokens)"
      ],
      "metadata": {
        "id": "NPqp6mh4k1XT"
      },
      "id": "NPqp6mh4k1XT",
      "execution_count": 34,
      "outputs": []
    },
    {
      "cell_type": "markdown",
      "metadata": {
        "id": "Xv-PoYE1ELq4"
      },
      "source": [
        "## Cosine Similarity and PCA"
      ],
      "id": "Xv-PoYE1ELq4"
    },
    {
      "cell_type": "code",
      "execution_count": 35,
      "metadata": {
        "id": "CbtPCqjaELq4",
        "colab": {
          "base_uri": "https://localhost:8080/"
        },
        "outputId": "a566b353-b1cf-4430-9d78-0fe58b789e6f"
      },
      "outputs": [
        {
          "output_type": "stream",
          "name": "stdout",
          "text": [
            "----------\n",
            "original: Sudanese opposition, government start peace talks Sudanese opposition groups and a government delegation on Friday held the first full day of peace talks in Cairo with both sides optimistic about a deal, sources close to the negotiations told Egypt #39;s MENA news agency.\n",
            "----------\n",
            "snippet: Darfur Peace Talks Overshadowed by Fighting (Reuters) Reuters - Peace talks on Sudan's war-torn Darfur\\region got under way Monday in Nigeria's capital, overshadowed\\by fighting between rebels and government forces in the vast\\desert area.\n",
            "tokens: darfur peace talks overshadow fighting reuters reuters peace talk sudan war tear darfur\\region get way monday nigeria capital overshadowed\\by fighting rebel government force vast\\desert area\n",
            "cosine similarity: 0.3405044556564531\n",
            "----------\n",
            "snippet: Ukraine's Isolated PM Repeats Offer to Opposition (Reuters) Reuters - Prime Minister Viktor Yanukovich, looking\\increasingly isolated in Ukraine's deepening political crisis,\\offered again on Tuesday to make his opposition rival premier\\if allowed to take up the presidency.\n",
            "tokens: ukraine isolated pm repeats offer opposition reuters reuters prime minister viktor yanukovich looking\\increasingly isolate ukraine deepening political crisis,\\offered tuesday opposition rival premier\\if allow presidency\n",
            "cosine similarity: 0.18865273082366607\n",
            "----------\n",
            "snippet: Expanded African force, peace talks key to Darfur strategy UNITED NATIONS : An expanded African force must be urgently deployed in Sudan #39;s troubled Darfur region, UN Secretary General Kofi Annan said in a report discussed by the UN Security Council.\n",
            "tokens: expand african force peace talk key darfur strategy united nations expand african force urgently deploy sudan 39;s troubled darfur region un secretary general kofi annan say report discuss un security council\n",
            "cosine similarity: 0.174613728218785\n",
            "----------\n"
          ]
        }
      ],
      "source": [
        "from sklearn.metrics.pairwise import cosine_similarity\n",
        "##TODO compute the cosine similarity for the first 200 snippets and for the first snippet, show the three most similar snippets and their respective cosine similarity scores\n",
        "cosine_sim = cosine_similarity(tfidf_matrix)\n",
        "\n",
        "first_sim = cosine_sim[0]\n",
        "\n",
        "cosine_similarity_of_others = first_sim[1:]\n",
        "top_three_similar = cosine_similarity_of_others.argsort()[-3:]\n",
        "idxs = list(reversed([idx + 1 for idx in top_three_similar]))\n",
        "similarity_scores = cosine_sim[0, idxs]\n",
        "\n",
        "print(\"-\"*10)\n",
        "print(\"original: \"+dfs.iloc[0]['text'])\n",
        "for (idx,score) in zip(idxs, similarity_scores):\n",
        "  print(\"-\"*10)\n",
        "  print('snippet: ' + dfs.iloc[idx]['text'])\n",
        "  print('tokens: ' + dfs.iloc[idx]['tokens'])\n",
        "  print('cosine similarity: ' + str(score))\n",
        "print(\"-\"*10)\n"
      ],
      "id": "CbtPCqjaELq4"
    },
    {
      "cell_type": "code",
      "execution_count": 36,
      "metadata": {
        "id": "MVg9wiT_ELq4",
        "colab": {
          "base_uri": "https://localhost:8080/"
        },
        "outputId": "f4cdf7f1-a0ac-44d7-c450-fa8ac32be766"
      },
      "outputs": [
        {
          "output_type": "stream",
          "name": "stdout",
          "text": [
            "----------\n",
            "original: Sudanese opposition, government start peace talks Sudanese opposition groups and a government delegation on Friday held the first full day of peace talks in Cairo with both sides optimistic about a deal, sources close to the negotiations told Egypt #39;s MENA news agency.\n",
            "----------\n",
            "snippet: Expanded African force, peace talks key to Darfur strategy UNITED NATIONS : An expanded African force must be urgently deployed in Sudan #39;s troubled Darfur region, UN Secretary General Kofi Annan said in a report discussed by the UN Security Council.\n",
            "tokens: expand african force peace talk key darfur strategy united nations expand african force urgently deploy sudan 39;s troubled darfur region un secretary general kofi annan say report discuss un security council\n",
            "cosine similarity: 0.9994113598840985\n",
            "----------\n",
            "snippet: Forstmann Little to buy Talent Agency IMG Buyout firm Forstmann Little  amp; Co. Thursday said it would buy International Management Group, a leading talent agency that represents major sports and entertainment stars.\n",
            "tokens: forstmann little buy talent agency img buyout firm forstmann little   amp co. thursday say buy international management group lead talent agency represent major sport entertainment star\n",
            "cosine similarity: 0.9795263126332927\n",
            "----------\n",
            "snippet: Tweeter Posts Lower 4Q Sales Consumer electronics retailer Tweeter Home Entertainment Group Inc. said Wednesday that same-store sales declined 3.5 percent in the fourth quarter after the effects of recent hurricanes.\n",
            "tokens: tweeter posts low 4q sales consumer electronics retailer tweeter home entertainment group inc. say wednesday store sale decline 3.5 percent fourth quarter effect recent hurricane\n",
            "cosine similarity: 0.9788083580473891\n",
            "----------\n"
          ]
        }
      ],
      "source": [
        "from sklearn.decomposition import KernelPCA\n",
        "##TODO reduce the vectorized data using PCA\n",
        "\n",
        "pca = KernelPCA(n_components=3) #pca would not work for me due to sparcity so i used kernelPCA\n",
        "reduced_matrix = pca.fit_transform(tfidf_matrix)\n",
        "\n",
        "##TODO compute again cosine similarity with the reduced version for the first 200 snippets\n",
        "\n",
        "cosine_sim = cosine_similarity(reduced_matrix)\n",
        "\n",
        "##TODO for the first snippet, show again its three most similar snippets\n",
        "\n",
        "first_sim = cosine_sim[0]\n",
        "\n",
        "cosine_similarity_of_others = first_sim[1:]\n",
        "top_three_similar = cosine_similarity_of_others.argsort()[-3:]\n",
        "idxs = list(reversed([idx + 1 for idx in top_three_similar]))\n",
        "similarity_scores = cosine_sim[0, idxs]\n",
        "\n",
        "print(\"-\"*10)\n",
        "print(\"original: \"+dfs.iloc[0]['text'])\n",
        "for (idx,score) in zip(idxs, similarity_scores):\n",
        "  print(\"-\"*10)\n",
        "  print('snippet: ' + dfs.iloc[idx]['text'])\n",
        "  print('tokens: ' + dfs.iloc[idx]['tokens'])\n",
        "  print('cosine similarity: ' + str(score))\n",
        "print(\"-\"*10)"
      ],
      "id": "MVg9wiT_ELq4"
    },
    {
      "cell_type": "markdown",
      "metadata": {
        "id": "UM-7eKCpELq5"
      },
      "source": [
        "Compare the cosine similarity before and after PCA reduction. Did the results change?"
      ],
      "id": "UM-7eKCpELq5"
    },
    {
      "cell_type": "markdown",
      "source": [
        "When using a low number of components they completely change. When you increase the PCA to a higher number of components you re-obtain the original results."
      ],
      "metadata": {
        "id": "arR4zkWYcA2c"
      },
      "id": "arR4zkWYcA2c"
    },
    {
      "cell_type": "markdown",
      "metadata": {
        "id": "G5XaeYINELq5"
      },
      "source": [
        "## Clustering"
      ],
      "id": "G5XaeYINELq5"
    },
    {
      "cell_type": "code",
      "source": [
        "!pip install scikit-learn-extra"
      ],
      "metadata": {
        "colab": {
          "base_uri": "https://localhost:8080/"
        },
        "id": "dTFnyc0_cM5f",
        "outputId": "6c2be7cc-f1b2-4b8f-f02c-259c9cbb3fab"
      },
      "id": "dTFnyc0_cM5f",
      "execution_count": null,
      "outputs": [
        {
          "output_type": "stream",
          "name": "stdout",
          "text": [
            "Requirement already satisfied: scikit-learn-extra in /usr/local/lib/python3.10/dist-packages (0.3.0)\n",
            "Requirement already satisfied: numpy>=1.13.3 in /usr/local/lib/python3.10/dist-packages (from scikit-learn-extra) (1.25.2)\n",
            "Requirement already satisfied: scipy>=0.19.1 in /usr/local/lib/python3.10/dist-packages (from scikit-learn-extra) (1.11.4)\n",
            "Requirement already satisfied: scikit-learn>=0.23.0 in /usr/local/lib/python3.10/dist-packages (from scikit-learn-extra) (1.2.2)\n",
            "Requirement already satisfied: joblib>=1.1.1 in /usr/local/lib/python3.10/dist-packages (from scikit-learn>=0.23.0->scikit-learn-extra) (1.3.2)\n",
            "Requirement already satisfied: threadpoolctl>=2.0.0 in /usr/local/lib/python3.10/dist-packages (from scikit-learn>=0.23.0->scikit-learn-extra) (3.3.0)\n"
          ]
        }
      ]
    },
    {
      "cell_type": "code",
      "execution_count": null,
      "metadata": {
        "id": "YemXavPQELq5"
      },
      "outputs": [],
      "source": [
        "from sklearn_extra.cluster import KMedoids\n",
        "from sklearn.cluster import KMeans\n",
        "from sklearn.metrics import silhouette_score\n",
        "\n",
        "##TODO create the clusters found with k-medoids clustering nd 5 clusters\n",
        "##TODO create the clusters found with k-means clustering nd 5 clusters\n",
        "\n",
        "seed = 42\n",
        "\n",
        "# K-Medoids Clustering\n",
        "kmedoids = KMedoids(n_clusters = 5, random_state = seed)\n",
        "kmedoids_labels = kmedoids.fit_predict(tfidf_matrix)\n",
        "\n",
        "# K-Means Clustering\n",
        "kmeans = KMeans(n_clusters= 5, n_init = 1, random_state = seed )\n",
        "kmeans_labels = kmeans.fit_predict(tfidf_matrix)"
      ],
      "id": "YemXavPQELq5"
    },
    {
      "cell_type": "code",
      "execution_count": null,
      "metadata": {
        "id": "ZQ4Y98yKELq5"
      },
      "outputs": [],
      "source": [
        "##TODO visualize the k-medoids clustering results through Isomap (first reduce the dimensionality to 2 using Isomap, then use scatter plot (plt.scatter()) to visualize)\n",
        "from sklearn.manifold import Isomap\n",
        "import matplotlib.pyplot as plt\n",
        "\n",
        "isomap = Isomap(n_components=2)\n",
        "reduced_data = isomap.fit_transform(tfidf_matrix)\n",
        "\n",
        "plt.figure(figsize=(10, 7))\n",
        "colors = ['red', 'green', 'blue', 'orange', 'purple']\n",
        "\n",
        "for cluster_id in range(5):\n",
        "    cluster_data = reduced_data[kmedoids_labels == cluster_id]\n",
        "    plt.scatter(cluster_data[:, 0], cluster_data[:, 1], c=colors[cluster_id], label=f\"Cluster {cluster_id}\")\n",
        "\n",
        "plt.title('K-Medoids Clustering Visualization (Isomap)')\n",
        "plt.legend()\n",
        "plt.show()"
      ],
      "id": "ZQ4Y98yKELq5"
    },
    {
      "cell_type": "code",
      "source": [
        "##TODO similarly, visualize the k-means results\n",
        "isomap = Isomap(n_components=2)\n",
        "reduced_data = isomap.fit_transform(tfidf_matrix)\n",
        "\n",
        "# Scatter Plot Visualization (Slightly modified)\n",
        "plt.figure(figsize=(10, 7))\n",
        "\n",
        "for cluster_id in range(5):\n",
        "    cluster_data = reduced_data[kmeans_labels == cluster_id]  # Update for K-Means labels\n",
        "    plt.scatter(cluster_data[:, 0], cluster_data[:, 1], c=colors[cluster_id], label=f\"Cluster {cluster_id}\")\n",
        "\n",
        "plt.title('K-Means Clustering Visualization (Isomap)')\n",
        "plt.legend()\n",
        "plt.show()\n"
      ],
      "metadata": {
        "id": "mT0YQfX-z1YL"
      },
      "id": "mT0YQfX-z1YL",
      "execution_count": null,
      "outputs": []
    },
    {
      "cell_type": "markdown",
      "metadata": {
        "id": "Q6ioDcP-ELq5"
      },
      "source": [
        "## Topic Modeling: LDA"
      ],
      "id": "Q6ioDcP-ELq5"
    },
    {
      "cell_type": "markdown",
      "metadata": {
        "id": "ev37xRqwELq5"
      },
      "source": [
        "For this part you will need to use LDA Mallet. If you cannot have Mallet run, you can use the simple LDA algorithm"
      ],
      "id": "ev37xRqwELq5"
    },
    {
      "cell_type": "code",
      "execution_count": null,
      "metadata": {
        "id": "kjLuOgsHELq5"
      },
      "outputs": [],
      "source": [
        "from gensim.corpora import Dictionary\n",
        "from gensim.models.coherencemodel import CoherenceModel\n",
        "\n",
        "##TODO create a dictionary with the pre-processed tokenized text and filter it according to frequencies and keeping 1000 vocabularies\n",
        "\n",
        "dictionary = Dictionary(dfs['unjoined_tokens'])\n",
        "dictionary.filter_extremes(no_below=5, no_above=0.5, keep_n=1000)\n",
        "\n",
        "##TODO create the doc_term_matrix\n",
        "doc_term_matrix = [dictionary.doc2bow(doc) for doc in dfs['unjoined_tokens']]\n"
      ],
      "id": "kjLuOgsHELq5"
    },
    {
      "cell_type": "code",
      "execution_count": null,
      "metadata": {
        "id": "jZsmeNyvELq5"
      },
      "outputs": [],
      "source": [
        "##TODO train a LDA Mallet model with 5, 10 and 15 topics\n",
        "##TODO compute the coherence score for each of these model and print the topics from the model with highest coherence score. Then find the opitimal number of topics using the coherence score.\n",
        "#i couldn't get mallet to work in colab"
      ],
      "id": "jZsmeNyvELq5"
    },
    {
      "cell_type": "code",
      "execution_count": null,
      "metadata": {
        "id": "3EJIIr58ELq6"
      },
      "outputs": [],
      "source": [
        "#!pip install pyLDAvis\n",
        "import pyLDAvis.gensim\n",
        "from gensim.models import wrappers\n",
        "##TODO using LDAvis visualize the topics using the optimal number of topics"
      ],
      "id": "3EJIIr58ELq6"
    }
  ],
  "metadata": {
    "kernelspec": {
      "display_name": "Python 3",
      "language": "python",
      "name": "python3"
    },
    "language_info": {
      "codemirror_mode": {
        "name": "ipython",
        "version": 3
      },
      "file_extension": ".py",
      "mimetype": "text/x-python",
      "name": "python",
      "nbconvert_exporter": "python",
      "pygments_lexer": "ipython3",
      "version": "3.7.4"
    },
    "colab": {
      "provenance": []
    }
  },
  "nbformat": 4,
  "nbformat_minor": 5
}